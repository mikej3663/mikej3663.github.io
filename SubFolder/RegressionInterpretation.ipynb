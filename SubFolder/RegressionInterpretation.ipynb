{
 "cells": [
  {
   "cell_type": "markdown",
   "metadata": {},
   "source": [
    "# THIS FILE IS IN THE HANDOUTS FOLDER. COPY IT INTO YOUR CLASS NOTES\n",
    "\n",
    "- [**Read the chapter on the website!**](https://ledatascifi.github.io/ledatascifi-2025/content/05/02_reg.html) It contains a lot of extra information we won't cover in class extensively.\n",
    "- After reading that, I recommend [this webpage as a complimentary place to get additional intuition.](https://aeturrell.github.io/coding-for-economists/econmt-regression.html)\n",
    "\n",
    "## Today\n",
    "\n",
    "[Finish picking teams and declare initial project interests in the project sheet](https://docs.google.com/spreadsheets/d/1SMetWKgI3JdhFdBwihDgIY3BDubvihkJCWbgLcCe4fs/edit?usp=sharing)\n"
   ]
  },
  {
   "cell_type": "markdown",
   "metadata": {},
   "source": [
    "# Today is mostly about INTERPRETING COEFFICIENTS (6.4 in the book)\n",
    "\n",
    "1. 25 min reading groups: Talk/read through two regression pages (6.3 and 6.4) \n",
    "    - Assemble your own notes. Perhaps in the \"Module 4 notes\" file, but you can do this in any file you want.\n",
    "    - After class, each group will email their notes to the TA/me for participation. (Effort grading.)\n",
    "1. 10 min: class builds joint \"big takeaways and nuanced observations\" \n",
    "1. 5 min: Interpret models 1-2 as class as practice. \n",
    "1. 20 min reading groups: Work through remaining problems below.\n",
    "1. 10 min: wrap up  \n",
    "\n",
    "---"
   ]
  },
  {
   "cell_type": "markdown",
   "metadata": {},
   "source": [
    "## Notes from 6.3 and 6.4\n",
    "\n",
    "- 𝑅2=1−𝑆𝑆𝐸/𝑇𝑆𝑆\n",
    " = The fraction of variation in y that a model can explain, and always between 0 and 1.\n",
    "\n",
    "- Adding extra variables to a model can not reduce R2\n",
    " even if the variables are random\n",
    "\n",
    "- Adjusted R2 adjusts R2 by penalizing based on the number of variables in X. It can actually be negative.\n",
    "\n",
    "-  sm_ols(<model and data>).fit().summary() automatically reports R2 and Adjusted R2\n",
    "\n",
    "- Can have negative coefficients that are part of a model: When your regression omits a variable that is in the “true model” generating the data, it will bias the coefficients on other variables"
   ]
  },
  {
   "cell_type": "markdown",
   "metadata": {},
   "source": [
    "## Table of how an increase in x (continuous) affects y\n",
    "\n",
    "𝑦=𝑎+𝛽𝑋\n",
    "\n",
    "If 𝑋↑\n",
    " 1 unit, then 𝑦↑\n",
    " by 𝛽\n",
    " units\n",
    "\n",
    "log𝑦=𝑎+𝛽𝑋\n",
    "\n",
    "If 𝑋↑\n",
    " 1 unit, then 𝑦↑\n",
    " by about 100∗𝛽\n",
    "%.\n",
    "(Exact: 100∗(exp(𝛽)−1)\n",
    ")\n",
    "\n",
    "𝑦=𝑎+𝛽log𝑋\n",
    "\n",
    "If 𝑋↑\n",
    " 1%, then 𝑦↑\n",
    " by about 𝛽/100\n",
    " units\n",
    "\n",
    "log𝑦=𝑎+𝛽log𝑋\n",
    "\n",
    "If 𝑋↑\n",
    " 1%, then 𝑦↑\n",
    " by 𝛽\n",
    "%"
   ]
  },
  {
   "cell_type": "markdown",
   "metadata": {},
   "source": [
    "## Table of how an increase in x (binary) affects y\n",
    "\n",
    "𝑦=𝑎+𝛽𝑋\n",
    "\n",
    "𝑦\n",
    " is 𝛽\n",
    " units higher for cases when 𝑋=1\n",
    " than when 𝑋=0\n",
    ".\n",
    "\n",
    "log𝑦=𝑎+𝛽𝑋\n",
    "\n",
    "𝑦\n",
    " is about 100∗𝛽\n",
    " % higher for cases when 𝑋=1\n",
    " than when 𝑋=0"
   ]
  },
  {
   "cell_type": "markdown",
   "metadata": {},
   "source": [
    "## Table of how an increase in x (categorical) affects y\n",
    "| X (original variable) | X1 | X2 |\n",
    "|----------------------|----|----|\n",
    "| 0                  | 0  | 0  |\n",
    "| 1                  | 1  | 0  |\n",
    "| 2                  | 0  | 1  |\n",
    "\n",
    "Then\n",
    "\n",
    "| If the model is...                         | \\( a \\) means                                              | \\( \\beta_1 \\) means                                                    | \\( \\beta_2 \\) means                                                    |\n",
    "|--------------------------------------------|-----------------------------------------------------------|------------------------------------------------------------------------|------------------------------------------------------------------------|\n",
    "| \\( y = a + \\beta_1 X_1 + \\beta_2 X_2 \\)    | The average value of \\( y \\) is \\( a \\) for group 0 (because \\( X_1 = X_2 = 0 \\) if \\( X = 0 \\)) | \\( y \\) is \\( \\beta_1 \\) units higher on average when \\( X = 1 \\) than when \\( X = 0 \\). | \\( y \\) is \\( \\beta_2 \\) units higher on average when \\( X = 2 \\) than when \\( X = 0 \\). |\n",
    "| \\( \\log y = a + \\beta_1 X_1 + \\beta_2 X_2 \\) | The average value of \\( \\log y \\) is \\( a \\) for group 0 (because \\( X_1 = X_2 = 0 \\) if \\( X = 0 \\)) | \\( y \\) is about \\( 100 \\times \\beta_1 \\)% higher on average when \\( X = 1 \\) than when \\( X = 0 \\). | \\( y \\) is about \\( 100 \\times \\beta_2 \\)% higher on average when \\( X = 2 \\) than\n"
   ]
  },
  {
   "cell_type": "markdown",
   "metadata": {},
   "source": [
    "Relationship of size on price: 1.53+0.18∗𝐼𝑑𝑒𝑎𝑙\n",
    "- A 1% increase in size is associated with a 1.53% higher price for non ideal diamonds\n",
    "\n",
    "- A 1% increase in size is associated with a 1.71% higher price for ideal diamonds\n",
    "\n",
    "Relationship of cut on price: 0.33+0.18∗𝑙𝑜𝑔(𝑐𝑎𝑟𝑎𝑡)\n",
    "- For 1 carat diamonds (𝑙𝑜𝑔(1)=0\n",
    "), ideal diamonds are 33% more expensive than non-ideal diamonds\n",
    "\n",
    "- For 2 carat diamonds (𝑙𝑜𝑔(2)=0.693\n",
    "), ideal diamonds are 45% more expensive than non-ideal diamonds"
   ]
  },
  {
   "cell_type": "markdown",
   "metadata": {},
   "source": [
    "How do you interpret 𝛽3=0.18\n",
    "?\n",
    "\n",
    "𝛽3≠0\n",
    "- implies that the relationship between carat size and price is different for ideal and non-ideal diamonds.\n",
    "\n",
    "- Mathematically: 1%↑\n",
    " in carat →\n",
    " price increases by 1.53% for non-ideal but 1.71% for ideal\n",
    "\n",
    "- Graphically, the difference in the slope of those carat-price relationships for ideal/non-ideal diamonds is 𝛽3\n",
    "\n",
    "- Economically, you might say that the value of a larger ring is even more valuable for better cut diamonds\n",
    "\n",
    "𝛽3≠0\n",
    "- implies that the relationship between cut quality and price is different for diamonds of different sizes.\n",
    "\n",
    "- Mathematically: 1 carat diamonds that are ideal are 33% more expensive than non-ideal diamonds, but 2 carat ideal diamonds are 45% more expensive than non-ideal diamonds\n",
    "\n",
    "- Graphically, the difference in the slope of those cut quality-price relationships for small/large diamonds is 𝛽3\n",
    "\n",
    "- Economically, you might say that the value of a better cut is even more valuable for larger diamonds\n",
    "\n"
   ]
  },
  {
   "cell_type": "code",
   "execution_count": 1,
   "metadata": {},
   "outputs": [],
   "source": [
    "import pandas as pd\n",
    "from statsmodels.formula.api import ols as sm_ols\n",
    "import numpy as np\n",
    "import seaborn as sns\n",
    "from statsmodels.iolib.summary2 import summary_col # nicer tables\n"
   ]
  },
  {
   "cell_type": "code",
   "execution_count": 2,
   "metadata": {},
   "outputs": [],
   "source": [
    "url = 'https://github.com/LeDataSciFi/ledatascifi-2025/blob/main/data/Fannie_Mae_Plus_Data.gzip?raw=true'\n",
    "fannie_mae = pd.read_csv(url,compression='gzip') "
   ]
  },
  {
   "cell_type": "markdown",
   "metadata": {},
   "source": [
    "## Clean the data and create variables you want"
   ]
  },
  {
   "cell_type": "code",
   "execution_count": 3,
   "metadata": {},
   "outputs": [],
   "source": [
    "fannie_mae = (fannie_mae\n",
    "                  # create variables\n",
    "                  .assign(l_credscore = np.log(fannie_mae['Borrower_Credit_Score_at_Origination']),\n",
    "                          l_LTV = np.log(fannie_mae['Original_LTV_(OLTV)']),\n",
    "                          l_int = np.log(fannie_mae['Original_Interest_Rate']),\n",
    "                          Origination_Date = lambda x: pd.to_datetime(x['Origination_Date']),\n",
    "                          Origination_Year = lambda x: x['Origination_Date'].dt.year,\n",
    "                          const = 1\n",
    "                         )\n",
    "                  .rename(columns={'Original_Interest_Rate':'int'}) # shorter name will help the table formatting\n",
    "             )\n",
    "\n",
    "# create a categorical credit bin var with \"pd.cut()\"\n",
    "fannie_mae['creditbins']= pd.cut(fannie_mae['Co-borrower_credit_score_at_origination'],\n",
    "                                 [0,579,669,739,799,850],\n",
    "                                 labels=['Very Poor','Fair','Good','Very Good','Exceptional'])\n"
   ]
  },
  {
   "cell_type": "markdown",
   "metadata": {},
   "source": [
    "## Statsmodels\n",
    "\n",
    "As before, the psuedocode:\n",
    "```python\n",
    "model = sm_ols(<formula>, data=<dataframe>)\n",
    "result=model.fit()\n",
    "\n",
    "# you use result to print summary, get predicted values (.predict) or residuals (.resid)\n",
    "```\n",
    "\n",
    "Now, let's save each regression's result with a different name, and below this, output them all in one nice table:"
   ]
  },
  {
   "cell_type": "code",
   "execution_count": 4,
   "metadata": {},
   "outputs": [],
   "source": [
    "# one var: 'y ~ x' means fit y = a + b*X\n",
    "\n",
    "reg1 = sm_ols('int ~  Borrower_Credit_Score_at_Origination ', data=fannie_mae).fit()\n",
    "\n",
    "reg1b= sm_ols('int ~  l_credscore  ',  data=fannie_mae).fit()\n",
    "\n",
    "reg1c= sm_ols('l_int ~  Borrower_Credit_Score_at_Origination  ',  data=fannie_mae).fit()\n",
    "\n",
    "reg1d= sm_ols('l_int ~  l_credscore  ',  data=fannie_mae).fit()\n",
    "\n",
    "# multiple variables: just add them to the formula\n",
    "# 'y ~ x1 + x2' means fit y = a + b*x1 + c*x2\n",
    "reg2 = sm_ols('int ~  l_credscore + l_LTV ',  data=fannie_mae).fit()\n",
    "\n",
    "# interaction terms: Just use *\n",
    "# Note: always include each variable separately too! (not just x1*x2, but x1+x2+x1*x2)\n",
    "reg3 = sm_ols('int ~  l_credscore + l_LTV + l_credscore*l_LTV',  data=fannie_mae).fit()\n",
    "      \n",
    "# categorical dummies: C() \n",
    "reg4 = sm_ols('int ~  C(creditbins)  ',  data=fannie_mae).fit()\n",
    "\n",
    "reg5 = sm_ols('int ~  C(creditbins)  -1', data=fannie_mae).fit()\n"
   ]
  },
  {
   "cell_type": "markdown",
   "metadata": {},
   "source": [
    "Ok, time to output them:"
   ]
  },
  {
   "cell_type": "code",
   "execution_count": 5,
   "metadata": {},
   "outputs": [
    {
     "name": "stdout",
     "output_type": "stream",
     "text": [
      "============================================================================================================\n",
      "                  y = interest rate if not specified, log(interest rate else)\n",
      "\n",
      "============================================================================================================\n",
      "                                        1        2      3 (log) 4 (log)     5         6        7        8   \n",
      "------------------------------------------------------------------------------------------------------------\n",
      "Intercept                            11.58*** 45.37*** 2.87***  9.50***  44.13*** -16.81*** 6.65***         \n",
      "                                     (0.05)   (0.29)   (0.01)   (0.06)   (0.30)   (4.11)    (0.08)          \n",
      "Borrower_Credit_Score_at_Origination -0.01***          -0.00***                                             \n",
      "                                     (0.00)            (0.00)                                               \n",
      "l_credscore                                   -6.07***          -1.19*** -5.99*** 3.22***                   \n",
      "                                              (0.04)            (0.01)   (0.04)   (0.62)                    \n",
      "l_LTV                                                                    0.15***  14.61***                  \n",
      "                                                                         (0.01)   (0.97)                    \n",
      "l_credscore:l_LTV                                                                 -2.18***                  \n",
      "                                                                                  (0.15)                    \n",
      "C(creditbins)[Very Poor]                                                                             6.65***\n",
      "                                                                                                     (0.08) \n",
      "C(creditbins)[Fair]                                                                         -0.63*** 6.02***\n",
      "                                                                                            (0.08)   (0.02) \n",
      "C(creditbins)[Good]                                                                         -1.17*** 5.48***\n",
      "                                                                                            (0.08)   (0.01) \n",
      "C(creditbins)[Exceptional]                                                                  -2.25*** 4.40***\n",
      "                                                                                            (0.08)   (0.01) \n",
      "C(creditbins)[Very Good]                                                                    -1.65*** 5.00***\n",
      "                                                                                            (0.08)   (0.01) \n",
      "R-squared                            0.13     0.12     0.13     0.12     0.13     0.13      0.11     0.11   \n",
      "R-squared Adj.                       0.13     0.12     0.13     0.12     0.13     0.13      0.11     0.11   \n",
      "Adj R-squared                        0.13     0.12     0.13     0.12     0.13     0.13      0.11     0.11   \n",
      "No. observations                     134481   134481   134481   134481   134481   134481    67366    67366  \n",
      "R-squared                            0.13     0.12     0.13     0.12     0.13     0.13      0.11     0.11   \n",
      "============================================================================================================\n",
      "Standard errors in parentheses.\n",
      "* p<.1, ** p<.05, ***p<.01\n"
     ]
    }
   ],
   "source": [
    "# now I'll format an output table\n",
    "# I'd like to include extra info in the table (not just coefficients)\n",
    "info_dict={'R-squared' : lambda x: f\"{x.rsquared:.2f}\",\n",
    "           'Adj R-squared' : lambda x: f\"{x.rsquared_adj:.2f}\",\n",
    "           'No. observations' : lambda x: f\"{int(x.nobs):d}\"}\n",
    "\n",
    "# q4b1 and q4b2 name the dummies differently in the table, so this is a silly fix\n",
    "reg4.model.exog_names[1:] = reg5.model.exog_names[1:]  \n",
    "\n",
    "# This summary col function combines a bunch of regressions into one nice table\n",
    "print('='*108)\n",
    "print('                  y = interest rate if not specified, log(interest rate else)')\n",
    "print(summary_col(results=[reg1,reg1b,reg1c,reg1d,reg2,reg3,reg4,reg5], # list the result obj here\n",
    "                  float_format='%0.2f',\n",
    "                  stars = True, # stars are easy way to see if anything is statistically significant\n",
    "                  model_names=['1','2',' 3 (log)','4 (log)','5','6','7','8'], # these are bad names, lol. Usually, just use the y variable name\n",
    "                  info_dict=info_dict,\n",
    "                  regressor_order=[ 'Intercept','Borrower_Credit_Score_at_Origination','l_credscore','l_LTV','l_credscore:l_LTV',\n",
    "                                  'C(creditbins)[Very Poor]','C(creditbins)[Fair]','C(creditbins)[Good]','C(creditbins)[Vrey Good]','C(creditbins)[Exceptional]']\n",
    "                  )\n",
    "     )"
   ]
  },
  {
   "cell_type": "markdown",
   "metadata": {},
   "source": [
    "# Today. Work in groups. Refer to the lectures. \n",
    "\n",
    "You might need to print out a few individual regressions with more decimals.\n",
    "\n",
    "1. Interpret coefs in model 1-4\n",
    "1. Interpret coefs in model 5\n",
    "1. Interpret coefs in model 6 (and visually?)\n",
    "1. Interpret coefs in model 7 (and visually? + comp to table)\n",
    "1. Interpret coefs in model 8 (and visually? + comp to table)\n",
    "1. Add l_LTV  to Model 8 and interpret (and visually?)\n",
    "\n",
    "\n",
    "\n"
   ]
  },
  {
   "cell_type": "markdown",
   "metadata": {},
   "source": [
    "Model 1\n",
    " - beta_0: The interest rate is 11.58 if your credit score is 0\n",
    " - beta_1: For a 1 unit increase in credit score, the interest rate will fall by 0.86 b.p.\n",
    " - If your credit score = 700: 5.56 p.p\n",
    " - If your credit score = 707: 5.49 p.p\n",
    " - So, credit score up 7 points --> 6 b.p. drop in my interest rate"
   ]
  },
  {
   "cell_type": "code",
   "execution_count": 6,
   "metadata": {},
   "outputs": [
    {
     "data": {
      "text/plain": [
       "5.5600000000000005"
      ]
     },
     "execution_count": 6,
     "metadata": {},
     "output_type": "execute_result"
    }
   ],
   "source": [
    "11.58 - .0086*(700)"
   ]
  },
  {
   "cell_type": "markdown",
   "metadata": {},
   "source": [
    "Model 2\n",
    " - beta_1: -6.07\n",
    " - beta_0: The interest rate is 45.37 if your credit score is 0\n",
    " - beta_1: For a 1%  increase in credit score, the interest rate will fall by 0.0607 p.p.\n",
    " - If your credit score = 700: 5.0649 p.p\n",
    " - If your credit score = 707: 5.5445 p.p\n",
    " - So, credit score up 7 points --> 6 b.p. drop in my interest rate\n"
   ]
  },
  {
   "cell_type": "code",
   "execution_count": 7,
   "metadata": {},
   "outputs": [
    {
     "data": {
      "text/plain": [
       "5.604942366286529"
      ]
     },
     "execution_count": 7,
     "metadata": {},
     "output_type": "execute_result"
    }
   ],
   "source": [
    "import numpy as np\n",
    "\n",
    "45.37-6.07*(np.log(700))"
   ]
  },
  {
   "cell_type": "markdown",
   "metadata": {},
   "source": [
    "Model 3\n",
    " - beta_0: 2.87\n",
    " - beta_1: -.0017\n",
    " - beta_0: The interest rate is 17.64 if your credit score is 0\n",
    " - beta_1: For a 1 unit increase in credit score, the interest rate will fall by 0.17 %.\n",
    " - If your credit score = 700: 5.3656 p.p\n",
    " - If your credit score = 707: 5.3021 p.p\n",
    " - So, credit score up 7 points --> 6 b.p. drop in my interest rate\n"
   ]
  },
  {
   "cell_type": "code",
   "execution_count": 8,
   "metadata": {},
   "outputs": [
    {
     "data": {
      "text/plain": [
       "17.63701819983732"
      ]
     },
     "execution_count": 8,
     "metadata": {},
     "output_type": "execute_result"
    }
   ],
   "source": [
    "np.exp(2.87)"
   ]
  },
  {
   "cell_type": "code",
   "execution_count": 9,
   "metadata": {},
   "outputs": [
    {
     "data": {
      "text/plain": [
       "5.365555971121975"
      ]
     },
     "execution_count": 9,
     "metadata": {},
     "output_type": "execute_result"
    }
   ],
   "source": [
    "np.exp(2.87-.0017*700)"
   ]
  },
  {
   "cell_type": "code",
   "execution_count": 10,
   "metadata": {},
   "outputs": [
    {
     "data": {
      "text/plain": [
       "5.302084260759588"
      ]
     },
     "execution_count": 10,
     "metadata": {},
     "output_type": "execute_result"
    }
   ],
   "source": [
    "np.exp(2.87-.0017*707)"
   ]
  },
  {
   "cell_type": "markdown",
   "metadata": {},
   "source": [
    "Model 4\n",
    " - beta_0: 9.50\n",
    " - beta_1: -1.19\n",
    " - beta_0: The interest rate is 13359.73 if your credit score is 1\n",
    "\n",
    " - beta_1: For a 1 unit increase in credit score, the interest rate will fall by 0.17 %.\n",
    " - If your credit score = 700: 5.4971 p.p\n",
    " - If your credit score = 707: 5.4324 p.p\n",
    " - So, credit score up 7 points --> 6 b.p. drop in my interest rate"
   ]
  },
  {
   "cell_type": "code",
   "execution_count": 11,
   "metadata": {},
   "outputs": [
    {
     "data": {
      "text/plain": [
       "13359.726829661873"
      ]
     },
     "execution_count": 11,
     "metadata": {},
     "output_type": "execute_result"
    }
   ],
   "source": [
    "np.exp(9.5)"
   ]
  },
  {
   "cell_type": "code",
   "execution_count": 12,
   "metadata": {},
   "outputs": [
    {
     "name": "stdout",
     "output_type": "stream",
     "text": [
      "5.497065482961815\n",
      "5.432359161191803\n"
     ]
    }
   ],
   "source": [
    "print(np.exp(9.5-1.19*np.log(700)))\n",
    "print(np.exp(9.5-1.19*np.log(707)))"
   ]
  },
  {
   "cell_type": "markdown",
   "metadata": {},
   "source": [
    "Model 5: int = 44.13 - 5.99 log(Cred) - 0.15 log(LTV)\n",
    " - beta_0: 44.13\n",
    " - beta_1: -5.99\n",
    " - beta_2: -0.15\n",
    "\n",
    " - beta_1: For a 1 unit increase in credit score, the interest rate will fall by 0.17 %.\n",
    " - If your credit score = 700: 5.5263 p.p\n",
    " - If your credit score = 707: 5.4667 p.p\n",
    " - So, credit score up 7 points --> 6 b.p. drop in my interest rate"
   ]
  },
  {
   "cell_type": "code",
   "execution_count": 22,
   "metadata": {},
   "outputs": [
    {
     "name": "stdout",
     "output_type": "stream",
     "text": [
      "70.05729498363424\n",
      "5.52630307939741\n",
      "5.4667005975869305\n"
     ]
    }
   ],
   "source": [
    "print(fannie_mae[['Original_LTV_(OLTV)']].mean().iloc[0])\n",
    "\n",
    "print(44.13 - 5.99*np.log(700) + .15*np.log(70))\n",
    "print(44.13 - 5.99*np.log(707) + .15*np.log(70))"
   ]
  },
  {
   "cell_type": "markdown",
   "metadata": {},
   "source": [
    "Model 6: int = -16.81 + 3.22 log(Cred) +14.61log(LTV) - 2.18 log(Cred)*log(LTV)\n",
    "\n",
    " - If your credit score = 700: 6.3107 p.p\n",
    " - If your credit score = 707: 5.2506 p.p\n",
    " - So, credit score up 7 points --> 6 b.p. drop in my interest rate"
   ]
  },
  {
   "cell_type": "code",
   "execution_count": 20,
   "metadata": {},
   "outputs": [
    {
     "name": "stdout",
     "output_type": "stream",
     "text": [
      "6.310724843682131\n",
      "6.250607734464772\n"
     ]
    }
   ],
   "source": [
    "print(-16.18 + 3.22*np.log(700) + 14.61*np.log(70)-2.18*np.log(700)*np.log(70))\n",
    "print(-16.18 + 3.22*np.log(707) + 14.61*np.log(70)-2.18*np.log(707)*np.log(70))"
   ]
  },
  {
   "cell_type": "markdown",
   "metadata": {},
   "source": [
    "Model 7 & 8: Look at regression, all there"
   ]
  },
  {
   "cell_type": "markdown",
   "metadata": {},
   "source": [
    "## Vocab\n",
    "\n",
    "For a given X1 coefficient in a regression\n",
    "\n",
    "null hypothesis: Hypothesis assuming nothing is related/correlated\n",
    "\n",
    "   - X1 is not related to y\n",
    "\n",
    "std errors: estimates the std deviation of the coefficient\n",
    "\n",
    "t stat:  = ceof/se\n",
    "\n",
    "p-value: probabiility the non-zero beta is not zero by random chance\n",
    "\n",
    "   - one star, p < 10%, two star, p < 5%, three star, p < 1%\n",
    "\n",
    "economic significance: a reasonable change in x associated with a large change in y\n",
    "\n",
    " - reasonable = B caputures a one unit change which might be tiny or huge\n",
    " - Good Trick: scale cont vars by their STD so that a one unit change in X is a STD\n",
    " - large chg in y = compare coefficients to avg and std of y"
   ]
  }
 ],
 "metadata": {
  "kernelspec": {
   "display_name": "Python 3 (ipykernel)",
   "language": "python",
   "name": "python3"
  },
  "language_info": {
   "codemirror_mode": {
    "name": "ipython",
    "version": 3
   },
   "file_extension": ".py",
   "mimetype": "text/x-python",
   "name": "python",
   "nbconvert_exporter": "python",
   "pygments_lexer": "ipython3",
   "version": "3.12.7"
  }
 },
 "nbformat": 4,
 "nbformat_minor": 4
}
